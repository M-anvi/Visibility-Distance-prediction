{
 "cells": [
  {
   "cell_type": "code",
   "execution_count": 5,
   "id": "1bab78f9",
   "metadata": {},
   "outputs": [
    {
     "name": "stdout",
     "output_type": "stream",
     "text": [
      "(10000, 11)\n"
     ]
    },
    {
     "data": {
      "text/html": [
       "<div>\n",
       "<style scoped>\n",
       "    .dataframe tbody tr th:only-of-type {\n",
       "        vertical-align: middle;\n",
       "    }\n",
       "\n",
       "    .dataframe tbody tr th {\n",
       "        vertical-align: top;\n",
       "    }\n",
       "\n",
       "    .dataframe thead th {\n",
       "        text-align: right;\n",
       "    }\n",
       "</style>\n",
       "<table border=\"1\" class=\"dataframe\">\n",
       "  <thead>\n",
       "    <tr style=\"text-align: right;\">\n",
       "      <th></th>\n",
       "      <th>DATE</th>\n",
       "      <th>VISIBILITY</th>\n",
       "      <th>DRYBULBTEMPF</th>\n",
       "      <th>WETBULBTEMPF</th>\n",
       "      <th>DewPointTempF</th>\n",
       "      <th>RelativeHumidity</th>\n",
       "      <th>WindSpeed</th>\n",
       "      <th>WindDirection</th>\n",
       "      <th>StationPressure</th>\n",
       "      <th>SeaLevelPressure</th>\n",
       "      <th>Precip</th>\n",
       "    </tr>\n",
       "  </thead>\n",
       "  <tbody>\n",
       "    <tr>\n",
       "      <th>0</th>\n",
       "      <td>01-01-2010 00:00</td>\n",
       "      <td>9.993428</td>\n",
       "      <td>80.0</td>\n",
       "      <td>68.0</td>\n",
       "      <td>NaN</td>\n",
       "      <td>7.0</td>\n",
       "      <td>4.626061</td>\n",
       "      <td>253.0</td>\n",
       "      <td>30.02</td>\n",
       "      <td>30.41</td>\n",
       "      <td>0.11</td>\n",
       "    </tr>\n",
       "    <tr>\n",
       "      <th>1</th>\n",
       "      <td>01-01-2010 01:00</td>\n",
       "      <td>8.723471</td>\n",
       "      <td>30.0</td>\n",
       "      <td>69.0</td>\n",
       "      <td>78.0</td>\n",
       "      <td>77.0</td>\n",
       "      <td>0.913084</td>\n",
       "      <td>179.0</td>\n",
       "      <td>29.48</td>\n",
       "      <td>30.03</td>\n",
       "      <td>0.13</td>\n",
       "    </tr>\n",
       "    <tr>\n",
       "      <th>2</th>\n",
       "      <td>01-01-2010 02:00</td>\n",
       "      <td>10.295377</td>\n",
       "      <td>NaN</td>\n",
       "      <td>2.0</td>\n",
       "      <td>41.0</td>\n",
       "      <td>43.0</td>\n",
       "      <td>10.303187</td>\n",
       "      <td>7.0</td>\n",
       "      <td>29.87</td>\n",
       "      <td>30.24</td>\n",
       "      <td>0.08</td>\n",
       "    </tr>\n",
       "    <tr>\n",
       "      <th>3</th>\n",
       "      <td>01-01-2010 03:00</td>\n",
       "      <td>12.046060</td>\n",
       "      <td>NaN</td>\n",
       "      <td>48.0</td>\n",
       "      <td>44.0</td>\n",
       "      <td>70.0</td>\n",
       "      <td>17.072654</td>\n",
       "      <td>188.0</td>\n",
       "      <td>29.99</td>\n",
       "      <td>30.05</td>\n",
       "      <td>0.07</td>\n",
       "    </tr>\n",
       "    <tr>\n",
       "      <th>4</th>\n",
       "      <td>01-01-2010 04:00</td>\n",
       "      <td>8.531693</td>\n",
       "      <td>37.0</td>\n",
       "      <td>NaN</td>\n",
       "      <td>-18.0</td>\n",
       "      <td>77.0</td>\n",
       "      <td>9.176510</td>\n",
       "      <td>34.0</td>\n",
       "      <td>29.57</td>\n",
       "      <td>30.13</td>\n",
       "      <td>0.15</td>\n",
       "    </tr>\n",
       "  </tbody>\n",
       "</table>\n",
       "</div>"
      ],
      "text/plain": [
       "               DATE  VISIBILITY  DRYBULBTEMPF  WETBULBTEMPF  DewPointTempF  \\\n",
       "0  01-01-2010 00:00    9.993428          80.0          68.0            NaN   \n",
       "1  01-01-2010 01:00    8.723471          30.0          69.0           78.0   \n",
       "2  01-01-2010 02:00   10.295377           NaN           2.0           41.0   \n",
       "3  01-01-2010 03:00   12.046060           NaN          48.0           44.0   \n",
       "4  01-01-2010 04:00    8.531693          37.0           NaN          -18.0   \n",
       "\n",
       "   RelativeHumidity  WindSpeed  WindDirection  StationPressure  \\\n",
       "0               7.0   4.626061          253.0            30.02   \n",
       "1              77.0   0.913084          179.0            29.48   \n",
       "2              43.0  10.303187            7.0            29.87   \n",
       "3              70.0  17.072654          188.0            29.99   \n",
       "4              77.0   9.176510           34.0            29.57   \n",
       "\n",
       "   SeaLevelPressure  Precip  \n",
       "0             30.41    0.11  \n",
       "1             30.03    0.13  \n",
       "2             30.24    0.08  \n",
       "3             30.05    0.07  \n",
       "4             30.13    0.15  "
      ]
     },
     "execution_count": 5,
     "metadata": {},
     "output_type": "execute_result"
    }
   ],
   "source": [
    "import pandas as pd\n",
    "import numpy as np\n",
    "import matplotlib.pyplot as plt\n",
    "import seaborn as sns\n",
    "\n",
    "df=pd.read_csv(r'Visibility_weather_data.csv')\n",
    "print(df.shape)\n",
    "df.head()"
   ]
  },
  {
   "cell_type": "markdown",
   "id": "d1482c54",
   "metadata": {},
   "source": [
    "DATA CLEANING:\n",
    "- Handling Missing Values\n",
    "- Handling Duplicates\n",
    "- Checking Data Type\n",
    "- Understanding the Dataset"
   ]
  },
  {
   "cell_type": "code",
   "execution_count": 6,
   "id": "42fc1368",
   "metadata": {},
   "outputs": [
    {
     "name": "stdout",
     "output_type": "stream",
     "text": [
      "Features with null values are :  ['VISIBILITY', 'DRYBULBTEMPF', 'WETBULBTEMPF', 'DewPointTempF', 'RelativeHumidity', 'WindSpeed', 'WindDirection', 'StationPressure', 'SeaLevelPressure', 'Precip']\n",
      "VISIBILITY 0.02  % of missing values\n",
      "DRYBULBTEMPF 0.02  % of missing values\n",
      "WETBULBTEMPF 0.02  % of missing values\n",
      "DewPointTempF 0.02  % of missing values\n",
      "RelativeHumidity 0.02  % of missing values\n",
      "WindSpeed 0.02  % of missing values\n",
      "WindDirection 0.02  % of missing values\n",
      "StationPressure 0.02  % of missing values\n",
      "SeaLevelPressure 0.02  % of missing values\n",
      "Precip 0.02  % of missing values\n"
     ]
    }
   ],
   "source": [
    "features_with_na= [features for features in df.columns if df[features].isnull().sum()>=1]\n",
    "print(\"Features with null values are : \", features_with_na )\n",
    "for feature in features_with_na:\n",
    "    print(feature, np.round(df[feature].isnull().mean(),4),  ' % of missing values')"
   ]
  },
  {
   "cell_type": "code",
   "execution_count": 7,
   "id": "b9221a1e",
   "metadata": {},
   "outputs": [
    {
     "data": {
      "text/plain": [
       "np.int64(0)"
      ]
     },
     "execution_count": 7,
     "metadata": {},
     "output_type": "execute_result"
    }
   ],
   "source": [
    "df['DATE']=pd.to_datetime(df['DATE'], format='%d-%m-%Y %H:%M')\n",
    "df.fillna(df.median(), inplace=True)\n",
    "df.isnull().sum().sum()"
   ]
  },
  {
   "cell_type": "code",
   "execution_count": 8,
   "id": "8e8df0d9",
   "metadata": {},
   "outputs": [
    {
     "data": {
      "text/plain": [
       "np.int64(0)"
      ]
     },
     "execution_count": 8,
     "metadata": {},
     "output_type": "execute_result"
    }
   ],
   "source": [
    "df.duplicated().sum()"
   ]
  },
  {
   "cell_type": "markdown",
   "id": "5529ca5e",
   "metadata": {},
   "source": [
    "DROP THE COLUMNS WHICH WE COULD SEE IN THE EDA NOTEBOOK ARE NOT EITHER IMPORTANT OR HAVING HIGH CORRELATION"
   ]
  },
  {
   "cell_type": "code",
   "execution_count": 9,
   "id": "f2a061e4",
   "metadata": {},
   "outputs": [],
   "source": [
    "columns_to_drop=['WETBULBTEMPF', 'DewPointTempF', 'StationPressure', 'DATE', 'Precip']\n",
    "df= df.drop(columns=columns_to_drop,axis=1)"
   ]
  },
  {
   "cell_type": "code",
   "execution_count": 10,
   "id": "9a37eaa4",
   "metadata": {},
   "outputs": [
    {
     "data": {
      "text/html": [
       "<div>\n",
       "<style scoped>\n",
       "    .dataframe tbody tr th:only-of-type {\n",
       "        vertical-align: middle;\n",
       "    }\n",
       "\n",
       "    .dataframe tbody tr th {\n",
       "        vertical-align: top;\n",
       "    }\n",
       "\n",
       "    .dataframe thead th {\n",
       "        text-align: right;\n",
       "    }\n",
       "</style>\n",
       "<table border=\"1\" class=\"dataframe\">\n",
       "  <thead>\n",
       "    <tr style=\"text-align: right;\">\n",
       "      <th></th>\n",
       "      <th>VISIBILITY</th>\n",
       "      <th>DRYBULBTEMPF</th>\n",
       "      <th>RelativeHumidity</th>\n",
       "      <th>WindSpeed</th>\n",
       "      <th>WindDirection</th>\n",
       "      <th>SeaLevelPressure</th>\n",
       "    </tr>\n",
       "  </thead>\n",
       "  <tbody>\n",
       "    <tr>\n",
       "      <th>0</th>\n",
       "      <td>9.993428</td>\n",
       "      <td>80.0</td>\n",
       "      <td>7.0</td>\n",
       "      <td>4.626061</td>\n",
       "      <td>253.0</td>\n",
       "      <td>30.41</td>\n",
       "    </tr>\n",
       "    <tr>\n",
       "      <th>1</th>\n",
       "      <td>8.723471</td>\n",
       "      <td>30.0</td>\n",
       "      <td>77.0</td>\n",
       "      <td>0.913084</td>\n",
       "      <td>179.0</td>\n",
       "      <td>30.03</td>\n",
       "    </tr>\n",
       "    <tr>\n",
       "      <th>2</th>\n",
       "      <td>10.295377</td>\n",
       "      <td>53.0</td>\n",
       "      <td>43.0</td>\n",
       "      <td>10.303187</td>\n",
       "      <td>7.0</td>\n",
       "      <td>30.24</td>\n",
       "    </tr>\n",
       "    <tr>\n",
       "      <th>3</th>\n",
       "      <td>12.046060</td>\n",
       "      <td>53.0</td>\n",
       "      <td>70.0</td>\n",
       "      <td>17.072654</td>\n",
       "      <td>188.0</td>\n",
       "      <td>30.05</td>\n",
       "    </tr>\n",
       "    <tr>\n",
       "      <th>4</th>\n",
       "      <td>8.531693</td>\n",
       "      <td>37.0</td>\n",
       "      <td>77.0</td>\n",
       "      <td>9.176510</td>\n",
       "      <td>34.0</td>\n",
       "      <td>30.13</td>\n",
       "    </tr>\n",
       "  </tbody>\n",
       "</table>\n",
       "</div>"
      ],
      "text/plain": [
       "   VISIBILITY  DRYBULBTEMPF  RelativeHumidity  WindSpeed  WindDirection  \\\n",
       "0    9.993428          80.0               7.0   4.626061          253.0   \n",
       "1    8.723471          30.0              77.0   0.913084          179.0   \n",
       "2   10.295377          53.0              43.0  10.303187            7.0   \n",
       "3   12.046060          53.0              70.0  17.072654          188.0   \n",
       "4    8.531693          37.0              77.0   9.176510           34.0   \n",
       "\n",
       "   SeaLevelPressure  \n",
       "0             30.41  \n",
       "1             30.03  \n",
       "2             30.24  \n",
       "3             30.05  \n",
       "4             30.13  "
      ]
     },
     "execution_count": 10,
     "metadata": {},
     "output_type": "execute_result"
    }
   ],
   "source": [
    "df.head()"
   ]
  },
  {
   "cell_type": "markdown",
   "id": "d1d8fa83",
   "metadata": {},
   "source": [
    "### **FEATURE ENGINEERING**"
   ]
  },
  {
   "cell_type": "markdown",
   "id": "6d398667",
   "metadata": {},
   "source": [
    "#### Numeric Features"
   ]
  },
  {
   "cell_type": "code",
   "execution_count": 11,
   "id": "6d832593",
   "metadata": {},
   "outputs": [
    {
     "name": "stdout",
     "output_type": "stream",
     "text": [
      "Number of numerical features:  6\n"
     ]
    }
   ],
   "source": [
    "num_features=[feature for feature in df.columns if df[feature].dtype !='O']\n",
    "print(\"Number of numerical features: \", len(num_features))"
   ]
  },
  {
   "cell_type": "markdown",
   "id": "1b819fc0",
   "metadata": {},
   "source": [
    "#### Continues Features"
   ]
  },
  {
   "cell_type": "code",
   "execution_count": 21,
   "id": "42a5c243",
   "metadata": {},
   "outputs": [
    {
     "name": "stdout",
     "output_type": "stream",
     "text": [
      "Number of continuous features:  6\n"
     ]
    }
   ],
   "source": [
    "continuous_features=[feature for feature in num_features if len(df[feature].unique())>25]\n",
    "print(\"Number of continuous features: \", len(continuous_features))"
   ]
  }
 ],
 "metadata": {
  "kernelspec": {
   "display_name": "Python 3",
   "language": "python",
   "name": "python3"
  },
  "language_info": {
   "codemirror_mode": {
    "name": "ipython",
    "version": 3
   },
   "file_extension": ".py",
   "mimetype": "text/x-python",
   "name": "python",
   "nbconvert_exporter": "python",
   "pygments_lexer": "ipython3",
   "version": "3.12.5"
  }
 },
 "nbformat": 4,
 "nbformat_minor": 5
}
