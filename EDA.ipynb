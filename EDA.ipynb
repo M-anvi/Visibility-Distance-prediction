{
 "cells": [
  {
   "cell_type": "markdown",
   "id": "8797bb78",
   "metadata": {},
   "source": [
    "VISIBILITY DISTANCE PREDICTION\n",
    "\n",
    "PROBLEM STATEMENT:\n",
    "Air Traffic Control (ATC) requires accurate tracking of weather conditions to predict visibility distance, which is a critical parameter for safe flight operations. Since the ability to fly planes heavily depends on sufficient visibility, developing a reliable prediction model for visibility distance is essential to ensure safety and efficiency in aviation.\n",
    "\n",
    "DATA COLLECTION:\n",
    "The dataset was collected from public meteorological repositories, government open-data platforms, aviation weather stations, and Kaggle weather datasets, which provide hourly weather parameters like temperature, humidity, visibility, wind speed, and pressure. The raw data was merged, cleaned, and standardized while retaining missing values and outliers to reflect real-world conditions.\n",
    "\n",
    "FEATURE INFORMATION:\n",
    "DATE\n",
    "VISIBILITY - Distance from which can object can be seen.\n",
    "DRYBULBTEMPF - Dry bulb temperature (degrees Farenheit). Most commonly reported standard temperature.\n",
    "WETBULBTEMPF - Wet bulb temperature (degrees Farenheit)\n",
    "DewPointTempF - Dew point temperature (degrees Farenheit)\n",
    "Relative Humidity - Relative humidity (percent)\n",
    "WindSpeed - Wind speed (miles per hour)\n",
    "Wind Direction - Wind direction from true north using compass directions.\n",
    "StationPressure - - Atmospheric pressure (inches of Mercury, or \"in Hg\").\n",
    "SeaLevelPressure - Sea level pressure (in Hg).\n",
    "Precip - Total precipitation in the past hour (in inches)"
   ]
  },
  {
   "cell_type": "code",
   "execution_count": 4,
   "id": "f1c22eee",
   "metadata": {},
   "outputs": [],
   "source": [
    "import numpy as np\n",
    "import pandas as pd\n",
    "import matplotlib.pyplot as plt\n",
    "import seaborn as sns\n",
    "from sklearn.preprocessing import StandardScaler\n",
    "\n",
    "df=pd.read_csv(r'Visibility_weather_data.csv')"
   ]
  }
 ],
 "metadata": {
  "kernelspec": {
   "display_name": "Python 3",
   "language": "python",
   "name": "python3"
  },
  "language_info": {
   "codemirror_mode": {
    "name": "ipython",
    "version": 3
   },
   "file_extension": ".py",
   "mimetype": "text/x-python",
   "name": "python",
   "nbconvert_exporter": "python",
   "pygments_lexer": "ipython3",
   "version": "3.12.5"
  }
 },
 "nbformat": 4,
 "nbformat_minor": 5
}
